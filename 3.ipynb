{
 "cells": [
  {
   "cell_type": "code",
   "execution_count": 2,
   "metadata": {},
   "outputs": [
    {
     "name": "stdout",
     "output_type": "stream",
     "text": [
      "I invite Xiaoming to have dinner\n",
      "I invite Xiaohong to have dinner\n",
      "I invite Xiaolin to have dinner\n"
     ]
    }
   ],
   "source": [
    "# 3-4\n",
    "invite = [\"Xiaoming\", \"Xiaohong\", \"Xiaolin\"]\n",
    "for i in invite:\n",
    "    print(\"I invite {} to have dinner\".format(i))"
   ]
  },
  {
   "cell_type": "code",
   "execution_count": 5,
   "metadata": {},
   "outputs": [
    {
     "name": "stdout",
     "output_type": "stream",
     "text": [
      "I invite Xiaoming to have dinner\n",
      "I invite Xiaohong to have dinner\n",
      "I invite Xiaolin to have dinner\n",
      "Xiaolin don't have time\n",
      "I invite Xiaoming to have dinner\n",
      "I invite Xiaohong to have dinner\n",
      "I invite Xiaozeng to have dinner\n"
     ]
    }
   ],
   "source": [
    "# 3-5\n",
    "invite = [\"Xiaoming\", \"Xiaohong\", \"Xiaolin\"]\n",
    "for i in invite:\n",
    "    print(\"I invite {} to have dinner\".format(i))\n",
    "no_time = \"Xiaolin\"\n",
    "print(\"{} don't have time\".format(no_time))\n",
    "invite.remove(no_time)\n",
    "invite.append(\"Xiaozeng\")\n",
    "for i in invite:\n",
    "    print(\"I invite {} to have dinner\".format(i))"
   ]
  },
  {
   "cell_type": "code",
   "execution_count": 7,
   "metadata": {},
   "outputs": [
    {
     "name": "stdout",
     "output_type": "stream",
     "text": [
      "I invite Xiaoming to have dinner\n",
      "I invite Xiaohong to have dinner\n",
      "I invite Xiaolin to have dinner\n",
      "Xiaolin don't have time\n",
      "I invite Xiaoming to have dinner\n",
      "I invite Xiaohong to have dinner\n",
      "I invite Xiaozeng to have dinner\n",
      "I found a big table\n",
      "I invite Xiaoli to have dinner\n",
      "I invite Xiaoming to have dinner\n",
      "I invite Xiaochen to have dinner\n",
      "I invite Xiaohong to have dinner\n",
      "I invite Xiaozeng to have dinner\n",
      "I invite Xiaofu to have dinner\n"
     ]
    }
   ],
   "source": [
    "# 3-6\n",
    "invite = [\"Xiaoming\", \"Xiaohong\", \"Xiaolin\"]\n",
    "for i in invite:\n",
    "    print(\"I invite {} to have dinner\".format(i))\n",
    "no_time = \"Xiaolin\"\n",
    "print(\"{} don't have time\".format(no_time))\n",
    "invite.remove(no_time)\n",
    "invite.append(\"Xiaozeng\")\n",
    "for i in invite:\n",
    "    print(\"I invite {} to have dinner\".format(i))\n",
    "print(\"I found a big table\")\n",
    "invite.insert(0, \"Xiaoli\")\n",
    "invite.insert(2, \"Xiaochen\")\n",
    "invite.append(\"Xiaofu\")\n",
    "for i in invite:\n",
    "    print(\"I invite {} to have dinner\".format(i))"
   ]
  },
  {
   "cell_type": "code",
   "execution_count": 12,
   "metadata": {},
   "outputs": [
    {
     "name": "stdout",
     "output_type": "stream",
     "text": [
      "I invite Xiaoming to have dinner\n",
      "I invite Xiaohong to have dinner\n",
      "I invite Xiaolin to have dinner\n",
      "Xiaolin don't have time\n",
      "I invite Xiaoming to have dinner\n",
      "I invite Xiaohong to have dinner\n",
      "I invite Xiaozeng to have dinner\n",
      "I found a big table\n",
      "I invite Xiaoli to have dinner\n",
      "I invite Xiaoming to have dinner\n",
      "I invite Xiaochen to have dinner\n",
      "I invite Xiaohong to have dinner\n",
      "I invite Xiaozeng to have dinner\n",
      "I invite Xiaofu to have dinner\n",
      "My table can arrive here on time, so I just invite two people\n",
      "I am so sorry to you, Xiaofu\n",
      "I am so sorry to you, Xiaozeng\n",
      "I am so sorry to you, Xiaohong\n",
      "I am so sorry to you, Xiaochen\n",
      "I will have dinner with you, Xiaoli\n",
      "I will have dinner with you, Xiaoming\n",
      "[]\n"
     ]
    }
   ],
   "source": [
    "# 3-7\n",
    "invite = [\"Xiaoming\", \"Xiaohong\", \"Xiaolin\"]\n",
    "for i in invite:\n",
    "    print(\"I invite {} to have dinner\".format(i))\n",
    "no_time = \"Xiaolin\"\n",
    "print(\"{} don't have time\".format(no_time))\n",
    "invite.remove(no_time)\n",
    "invite.append(\"Xiaozeng\")\n",
    "for i in invite:\n",
    "    print(\"I invite {} to have dinner\".format(i))\n",
    "print(\"I found a big table\")\n",
    "invite.insert(0, \"Xiaoli\")\n",
    "invite.insert(2, \"Xiaochen\")\n",
    "invite.append(\"Xiaofu\")\n",
    "for i in invite:\n",
    "    print(\"I invite {} to have dinner\".format(i))\n",
    "print(\"My table can arrive here on time, so I just invite two people\")\n",
    "while len(invite) > 2:\n",
    "    so_sorry = invite.pop()\n",
    "    print(\"I am so sorry to you, {}\".format(so_sorry))\n",
    "for i in invite:\n",
    "    print(\"I will have dinner with you, {}\".format(i))\n",
    "del invite[0]\n",
    "del invite[0]\n",
    "print(invite)"
   ]
  },
  {
   "cell_type": "code",
   "execution_count": 30,
   "metadata": {},
   "outputs": [
    {
     "name": "stdout",
     "output_type": "stream",
     "text": [
      "['Beijing', 'Qinghai', 'Hangzhou', 'Suzhou', 'Sichuan']\n",
      "['Beijing', 'Hangzhou', 'Qinghai', 'Sichuan', 'Suzhou']\n",
      "['Beijing', 'Qinghai', 'Hangzhou', 'Suzhou', 'Sichuan']\n",
      "['Suzhou', 'Sichuan', 'Qinghai', 'Hangzhou', 'Beijing']\n",
      "['Beijing', 'Qinghai', 'Hangzhou', 'Suzhou', 'Sichuan']\n",
      "********************\n",
      "['Beijing', 'Hangzhou', 'Qinghai', 'Sichuan', 'Suzhou']\n",
      "['Suzhou', 'Sichuan', 'Qinghai', 'Hangzhou', 'Beijing']\n"
     ]
    }
   ],
   "source": [
    "# 3-8\n",
    "location = [\"Beijing\", \"Qinghai\", \"Hangzhou\", \"Suzhou\", \"Sichuan\"]\n",
    "print(location)\n",
    "print(sorted(location))\n",
    "print(location)\n",
    "print(sorted(location, reverse=True))\n",
    "print(location)\n",
    "\n",
    "print(\"*\" * 20)\n",
    "location.sort()\n",
    "print(location)\n",
    "location.sort(reverse=True)\n",
    "print(location)"
   ]
  }
 ],
 "metadata": {
  "kernelspec": {
   "display_name": "Python 3",
   "language": "python",
   "name": "python3"
  },
  "language_info": {
   "codemirror_mode": {
    "name": "ipython",
    "version": 3
   },
   "file_extension": ".py",
   "mimetype": "text/x-python",
   "name": "python",
   "nbconvert_exporter": "python",
   "pygments_lexer": "ipython3",
   "version": "3.6.5"
  }
 },
 "nbformat": 4,
 "nbformat_minor": 2
}
