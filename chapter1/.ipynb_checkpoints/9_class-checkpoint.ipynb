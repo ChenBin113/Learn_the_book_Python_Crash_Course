{
 "cells": [
  {
   "cell_type": "code",
   "execution_count": 5,
   "metadata": {},
   "outputs": [
    {
     "name": "stdout",
     "output_type": "stream",
     "text": [
      "This is HaoChi\n",
      "This is the GuangDongFood\n",
      "\n",
      "Opening\n"
     ]
    }
   ],
   "source": [
    "# 9-1\n",
    "class Restaurant(object):\n",
    "    def __init__(self, restaurant_name, cuisine_type):\n",
    "        self.name = restaurant_name\n",
    "        self.type = cuisine_type\n",
    "        \n",
    "    def describe_restaurant(self):\n",
    "        print(\"This is {}\".format(self.name))\n",
    "        print(\"This is the {}\\n\".format(self.type))\n",
    "        \n",
    "    def open_restaurant(self):\n",
    "        print(\"Opening\")\n",
    "        \n",
    "rs = Restaurant(\"HaoChi\", \"GuangDongFood\")\n",
    "rs.describe_restaurant()\n",
    "rs.open_restaurant()"
   ]
  },
  {
   "cell_type": "code",
   "execution_count": 8,
   "metadata": {},
   "outputs": [
    {
     "name": "stdout",
     "output_type": "stream",
     "text": [
      "This is HaoChi\n",
      "This is the GuangDongFood\n",
      "\n",
      "This is BuHaoChi\n",
      "This is the NoWhereFood\n",
      "\n",
      "This is MiddleHaoChi\n",
      "This is the WhereFood\n",
      "\n"
     ]
    }
   ],
   "source": [
    "# 9-2\n",
    "class Restaurant(object):\n",
    "    def __init__(self, restaurant_name, cuisine_type):\n",
    "        self.name = restaurant_name\n",
    "        self.type = cuisine_type\n",
    "        \n",
    "    def describe_restaurant(self):\n",
    "        print(\"This is {}\".format(self.name))\n",
    "        print(\"This is the {}\\n\".format(self.type))\n",
    "        \n",
    "    def open_restaurant(self):\n",
    "        print(\"Opening\\n\")\n",
    "        \n",
    "rs1 = Restaurant(\"HaoChi\", \"GuangDongFood\")\n",
    "rs1.describe_restaurant()\n",
    "\n",
    "rs2 = Restaurant(\"BuHaoChi\", \"NoWhereFood\")\n",
    "rs2.describe_restaurant()\n",
    "\n",
    "rs3 = Restaurant(\"MiddleHaoChi\", \"WhereFood\")\n",
    "rs3.describe_restaurant()"
   ]
  },
  {
   "cell_type": "code",
   "execution_count": 10,
   "metadata": {},
   "outputs": [
    {
     "name": "stdout",
     "output_type": "stream",
     "text": [
      "This is the consumer Mike.Chen\n",
      "Hello, Mike.Chen, welcome to the restaurant.\n"
     ]
    }
   ],
   "source": [
    "# 9-3\n",
    "class User(object):\n",
    "    def __init__(self, first_name, last_name):\n",
    "        self.first_name = first_name\n",
    "        self.last_name = last_name\n",
    "        \n",
    "    def describe_user(self):\n",
    "        print(\"This is the consumer {}.{}\".format(self.first_name, self.last_name))\n",
    "        \n",
    "    def greet_user(self):\n",
    "        print(\"Hello, {}.{}, welcome to the restaurant.\".format(self.first_name, self.last_name))\n",
    "        \n",
    "p = User('Mike', 'Chen')\n",
    "p.describe_user()\n",
    "p.greet_user()"
   ]
  },
  {
   "cell_type": "code",
   "execution_count": 26,
   "metadata": {},
   "outputs": [
    {
     "name": "stdout",
     "output_type": "stream",
     "text": [
      "20\n",
      "You are roll back an odometer.\n"
     ]
    }
   ],
   "source": [
    "class Car(object):\n",
    "    def __init__(self, make, model, year):\n",
    "        self.make = make\n",
    "        self.model = model\n",
    "        self.year = year\n",
    "        self.odometer_reading = 0\n",
    "        \n",
    "    def get_descriptive_name(self):\n",
    "        pass\n",
    "    \n",
    "    def read_odometer(self):\n",
    "        print(str(self.odometer_reading))\n",
    "        \n",
    "    def update_odometer(self, mileage):\n",
    "        if mileage > self.odometer_reading:\n",
    "            self.odometer_reading = mileage\n",
    "        else:\n",
    "            print(\"You are roll back an odometer.\")\n",
    "        \n",
    "my_new_car = Car('audi', 'a4', 2016)\n",
    "my_new_car.update_odometer(20)\n",
    "my_new_car.read_odometer()\n",
    "my_new_car.update_odometer(10)\n"
   ]
  },
  {
   "cell_type": "code",
   "execution_count": 29,
   "metadata": {},
   "outputs": [
    {
     "name": "stdout",
     "output_type": "stream",
     "text": [
      "0\n",
      "20\n",
      "20\n",
      "30\n"
     ]
    }
   ],
   "source": [
    "# 9-4\n",
    "class Restaurant(object):\n",
    "    def __init__(self, restaurant_name, cuisine_type):\n",
    "        self.name = restaurant_name\n",
    "        self.type = cuisine_type\n",
    "        self.number_server = 0\n",
    "        \n",
    "    def describe_restaurant(self):\n",
    "        print(\"This is {}\".format(self.name))\n",
    "        print(\"This is the {}\\n\".format(self.type))\n",
    "        \n",
    "    def open_restaurant(self):\n",
    "        print(\"Opening\")\n",
    "            \n",
    "    def set_number_served(self, number):\n",
    "        print(self.number_server)\n",
    "        self.number_server = number\n",
    "        print(self.number_server)\n",
    "        \n",
    "    def increment_number_server(self, number):\n",
    "        print(self.number_server)\n",
    "        self.number_server += number\n",
    "        print(self.number_server)\n",
    "    \n",
    "rs = Restaurant(\"HaoChi\", \"GuangDongFood\")\n",
    "rs.set_number_served(20)\n",
    "rs.increment_number_server(10)"
   ]
  },
  {
   "cell_type": "code",
   "execution_count": null,
   "metadata": {},
   "outputs": [],
   "source": []
  }
 ],
 "metadata": {
  "kernelspec": {
   "display_name": "Python 3",
   "language": "python",
   "name": "python3"
  },
  "language_info": {
   "codemirror_mode": {
    "name": "ipython",
    "version": 3
   },
   "file_extension": ".py",
   "mimetype": "text/x-python",
   "name": "python",
   "nbconvert_exporter": "python",
   "pygments_lexer": "ipython3",
   "version": "3.6.5"
  }
 },
 "nbformat": 4,
 "nbformat_minor": 2
}
