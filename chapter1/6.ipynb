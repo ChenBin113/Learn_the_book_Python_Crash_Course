{
 "cells": [
  {
   "cell_type": "code",
   "execution_count": 15,
   "metadata": {},
   "outputs": [
    {
     "name": "stdout",
     "output_type": "stream",
     "text": [
      "The Nile runs through Egypt\n",
      "The Yellow runs through China\n",
      "The Changjiang runs through China\n",
      "Nile\n",
      "Yellow\n",
      "Changjiang\n",
      "Egypt\n",
      "China\n",
      "China\n"
     ]
    }
   ],
   "source": [
    "# 6-5\n",
    "river = {\"nile\": \"egypt\", \"yellow\": \"china\", \"changjiang\": \"china\"}\n",
    "for k,v in river.items():\n",
    "    print(\"The {0} runs through {1}\".format(k.title(), v.title()))\n",
    "for k in river.keys():\n",
    "    print(k.title())\n",
    "for v in river.values():\n",
    "    print(v.title())"
   ]
  }
 ],
 "metadata": {
  "kernelspec": {
   "display_name": "Python 3",
   "language": "python",
   "name": "python3"
  },
  "language_info": {
   "codemirror_mode": {
    "name": "ipython",
    "version": 3
   },
   "file_extension": ".py",
   "mimetype": "text/x-python",
   "name": "python",
   "nbconvert_exporter": "python",
   "pygments_lexer": "ipython3",
   "version": "3.6.5"
  }
 },
 "nbformat": 4,
 "nbformat_minor": 2
}
