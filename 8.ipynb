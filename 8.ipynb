{
 "cells": [
  {
   "cell_type": "code",
   "execution_count": 18,
   "metadata": {},
   "outputs": [
    {
     "name": "stdout",
     "output_type": "stream",
     "text": [
      "elephant ---- xiaoming\n",
      "rabit ---- xiaobai\n",
      "apple\n",
      "\n",
      "pear\n"
     ]
    }
   ],
   "source": [
    "def animal(**kwargs):\n",
    "    for k,v in kwargs.items():\n",
    "        print(k, '----', v)\n",
    "\n",
    "a = animal(elephant=\"xiaoming\", rabit=\"xiaobai\")\n",
    "\n",
    "def fruit(orange, *args):\n",
    "    print(orange +  '\\n')\n",
    "    \n",
    "    for i in args:\n",
    "        print(i)\n",
    "    \n",
    "\n",
    "f = fruit('apple', 'pear')"
   ]
  }
 ],
 "metadata": {
  "kernelspec": {
   "display_name": "Python 3",
   "language": "python",
   "name": "python3"
  },
  "language_info": {
   "codemirror_mode": {
    "name": "ipython",
    "version": 3
   },
   "file_extension": ".py",
   "mimetype": "text/x-python",
   "name": "python",
   "nbconvert_exporter": "python",
   "pygments_lexer": "ipython3",
   "version": "3.6.5"
  }
 },
 "nbformat": 4,
 "nbformat_minor": 2
}
